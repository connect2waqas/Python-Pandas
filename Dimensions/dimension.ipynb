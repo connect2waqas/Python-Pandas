{
 "cells": [
  {
   "cell_type": "code",
   "execution_count": 2,
   "id": "c40fabec-9c5f-49db-8048-b69292ecd60f",
   "metadata": {},
   "outputs": [],
   "source": [
    "import pandas as pd\n"
   ]
  },
  {
   "cell_type": "code",
   "execution_count": 8,
   "id": "c5b0e01f-1356-435b-b4dd-df29e8164003",
   "metadata": {},
   "outputs": [
    {
     "name": "stdout",
     "output_type": "stream",
     "text": [
      "0      iphone\n",
      "1    samsaung\n",
      "2       nokia\n",
      "dtype: object\n"
     ]
    }
   ],
   "source": [
    "# ONE DIMENSIONAL SERIES\n",
    "mobile= pd.Series([\"iphone\",\"samsaung\",\"nokia\"])\n",
    "print(mobile)"
   ]
  },
  {
   "cell_type": "code",
   "execution_count": 10,
   "id": "32102369-e7f7-4948-b43a-68d13215f7cb",
   "metadata": {},
   "outputs": [
    {
     "name": "stdout",
     "output_type": "stream",
     "text": [
      "0        Book\n",
      "1    Notebook\n",
      "2       Paper\n",
      "3         Pen\n",
      "dtype: object\n"
     ]
    }
   ],
   "source": [
    "# ONE DIMENSIONALS SERIES\n",
    "bag = pd.Series([\"Book\",\"Notebook\",\"Paper\",\"Pen\"])\n",
    "print(bag)"
   ]
  },
  {
   "cell_type": "code",
   "execution_count": 14,
   "id": "f9a57d96-dd30-4959-b2a2-a4624fcd56c4",
   "metadata": {},
   "outputs": [
    {
     "data": {
      "text/html": [
       "<div>\n",
       "<style scoped>\n",
       "    .dataframe tbody tr th:only-of-type {\n",
       "        vertical-align: middle;\n",
       "    }\n",
       "\n",
       "    .dataframe tbody tr th {\n",
       "        vertical-align: top;\n",
       "    }\n",
       "\n",
       "    .dataframe thead th {\n",
       "        text-align: right;\n",
       "    }\n",
       "</style>\n",
       "<table border=\"1\" class=\"dataframe\">\n",
       "  <thead>\n",
       "    <tr style=\"text-align: right;\">\n",
       "      <th></th>\n",
       "      <th>Electronic</th>\n",
       "      <th>items</th>\n",
       "    </tr>\n",
       "  </thead>\n",
       "  <tbody>\n",
       "    <tr>\n",
       "      <th>0</th>\n",
       "      <td>iphone</td>\n",
       "      <td>Book</td>\n",
       "    </tr>\n",
       "    <tr>\n",
       "      <th>1</th>\n",
       "      <td>samsaung</td>\n",
       "      <td>Notebook</td>\n",
       "    </tr>\n",
       "    <tr>\n",
       "      <th>2</th>\n",
       "      <td>nokia</td>\n",
       "      <td>Paper</td>\n",
       "    </tr>\n",
       "    <tr>\n",
       "      <th>3</th>\n",
       "      <td>NaN</td>\n",
       "      <td>Pen</td>\n",
       "    </tr>\n",
       "  </tbody>\n",
       "</table>\n",
       "</div>"
      ],
      "text/plain": [
       "  Electronic     items\n",
       "0     iphone      Book\n",
       "1   samsaung  Notebook\n",
       "2      nokia     Paper\n",
       "3        NaN       Pen"
      ]
     },
     "execution_count": 14,
     "metadata": {},
     "output_type": "execute_result"
    }
   ],
   "source": [
    "# TWO DIMENSIONAL DATA : DATA FRAME\n",
    "dataframe = pd.DataFrame({\"Electronic\":mobile,\"items\":bag})\n",
    "dataframe"
   ]
  },
  {
   "cell_type": "code",
   "execution_count": null,
   "id": "2a6bf827-78c3-4769-9245-40665835c4e1",
   "metadata": {},
   "outputs": [],
   "source": []
  }
 ],
 "metadata": {
  "kernelspec": {
   "display_name": "Python 3 (ipykernel)",
   "language": "python",
   "name": "python3"
  },
  "language_info": {
   "codemirror_mode": {
    "name": "ipython",
    "version": 3
   },
   "file_extension": ".py",
   "mimetype": "text/x-python",
   "name": "python",
   "nbconvert_exporter": "python",
   "pygments_lexer": "ipython3",
   "version": "3.12.4"
  }
 },
 "nbformat": 4,
 "nbformat_minor": 5
}
